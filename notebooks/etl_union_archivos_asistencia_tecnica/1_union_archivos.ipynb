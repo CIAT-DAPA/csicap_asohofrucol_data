{
 "cells": [
  {
   "cell_type": "code",
   "execution_count": 1,
   "id": "eb972e8d-b014-41a1-aa9b-136f1fcbb5f5",
   "metadata": {
    "tags": []
   },
   "outputs": [],
   "source": [
    "import pandas as pd\n",
    "import re"
   ]
  },
  {
   "cell_type": "code",
   "execution_count": 2,
   "id": "d97194c6-5c23-48d5-a988-8fdcc3a2ce4c",
   "metadata": {
    "tags": []
   },
   "outputs": [],
   "source": [
    "columnas_definidas = ['IDFICHAASISTENCIA',\n",
    "'FECHAVISITA',\n",
    "'NUMEROVISITA',\n",
    "'DEPARTAMENTOFINCA',\n",
    "'MUNICIPIOFINCA',\n",
    "'VEREDAFINCA',\n",
    "'NOMBREPREDIO',\n",
    "'LINEAPRODUCTIVA',\n",
    "'VARIEDAD',\n",
    "'AREA',\n",
    "'FASEVEGETATIVA',\n",
    "'FASEREPRODUCTIVA', \n",
    "'FASECOSECHA',\n",
    "'DIAGNOSTICO',\n",
    "'NOMBREPLAGA',\n",
    "'PLANTASEVALUADAS',\n",
    "'PLANTASINFECTADAS',\n",
    "'PLANTASINCIDENIAS',\n",
    "'RECOMENDACIONES',\n",
    "'LATITUD',\n",
    "'LONGITUD',\n",
    "'ALTITUD']\n",
    "\n",
    "gcs_asistencia_2016 = \"gs://datalake-asohofrucol/zone=landing/source=asistencia-tecnica/2016_AT_PLÁTANO.xlsx\"\n",
    "gcs_asistencia_2017 = \"gs://datalake-asohofrucol/zone=landing/source=asistencia-tecnica/2017_AT_PLÁTANO.xlsx\"\n",
    "gcs_asistencia_2018 = \"gs://datalake-asohofrucol/zone=landing/source=asistencia-tecnica/2018_AT_PLÁTANO.xlsx\"\n",
    "gcs_asistencia_2019 = \"gs://datalake-asohofrucol/zone=landing/source=asistencia-tecnica/2019_AT_PLÁTANO.xlsx\"\n",
    "gcs_asistencia_2020 = \"gs://datalake-asohofrucol/zone=landing/source=asistencia-tecnica/2020_AT_PLÁTANO.xlsx\"\n",
    "gcs_asistencia_2021 = \"gs://datalake-asohofrucol/zone=landing/source=asistencia-tecnica/2021_AT_PLÁTANO.xlsx\"\n",
    "gcs_asistencia_2022 = \"gs://datalake-asohofrucol/zone=landing/source=asistencia-tecnica/2022_AT_PLÁTANO.xlsx\"\n",
    "gcs_asistencia_2023 = \"gs://datalake-asohofrucol/zone=landing/source=asistencia-tecnica/2023_AT_PLÁTANO.xlsx\"\n"
   ]
  },
  {
   "cell_type": "code",
   "execution_count": 3,
   "id": "1bc4838d-94e1-46ec-86c6-6b9e692be612",
   "metadata": {
    "tags": []
   },
   "outputs": [],
   "source": [
    "df_2016 = pd.read_excel(gcs_asistencia_2016)\n",
    "df_2017 = pd.read_excel(gcs_asistencia_2017)\n",
    "df_2018 = pd.read_excel(gcs_asistencia_2018)\n",
    "df_2019 = pd.read_excel(gcs_asistencia_2019)\n",
    "df_2020 = pd.read_excel(gcs_asistencia_2020)\n",
    "df_2021 = pd.read_excel(gcs_asistencia_2021)\n",
    "df_2022 = pd.read_excel(gcs_asistencia_2022)\n",
    "df_2023 = pd.read_excel(gcs_asistencia_2023)"
   ]
  },
  {
   "cell_type": "code",
   "execution_count": 4,
   "id": "96bf439b-3db1-4014-bf25-88b6d9c7a7a9",
   "metadata": {
    "tags": []
   },
   "outputs": [],
   "source": [
    "df_2016.columns = [c.upper() for c in df_2016.columns]\n",
    "df_2017.columns = [c.upper() for c in df_2017.columns]\n",
    "df_2018.columns = [c.upper() for c in df_2018.columns]\n",
    "df_2019.columns = [c.upper() for c in df_2019.columns]\n",
    "df_2020.columns = [c.upper() for c in df_2020.columns]\n",
    "df_2021.columns = [c.upper() for c in df_2021.columns]\n",
    "df_2022.columns = [c.upper() for c in df_2022.columns]\n",
    "df_2023.columns = [c.upper() for c in df_2023.columns]"
   ]
  },
  {
   "cell_type": "code",
   "execution_count": 5,
   "id": "d67ede15-b678-4662-84dc-63b51223c202",
   "metadata": {
    "tags": []
   },
   "outputs": [],
   "source": [
    "df_2016 = df_2016.rename(columns={'ID':'IDFICHAASISTENCIA',\n",
    "                        'DEPARTAMENTO':'DEPARTAMENTOFINCA',\n",
    "                        'MUNICIPIO':'MUNICIPIOFINCA',\n",
    "                        'VEREDA':'VEREDAFINCA',\n",
    "                        'PLATASEVALUADAS':'PLANTASEVALUADAS',\n",
    "                        'ALTURA_MSNM':'ALTITUD',\n",
    "                        'FASEPRODUCTIVA':'FASEREPRODUCTIVA'\n",
    "                       })[columnas_definidas]\n",
    "df_2017 = df_2017.rename(columns={'ID':'IDFICHAASISTENCIA',\n",
    "                        'DEPARTAMENTO':'DEPARTAMENTOFINCA',\n",
    "                        'MUNICIPIO':'MUNICIPIOFINCA',\n",
    "                        'VEREDA':'VEREDAFINCA',\n",
    "                        'PLATASEVALUADAS':'PLANTASEVALUADAS',\n",
    "                        'ALTURA_MSNM':'ALTITUD',\n",
    "                        'FASEPRODUCTIVA':'FASEREPRODUCTIVA'\n",
    "                       })[columnas_definidas]\n",
    "df_2018 = df_2018.rename(columns={'ID':'IDFICHAASISTENCIA',\n",
    "                        'DEPARTAMENTO':'DEPARTAMENTOFINCA',\n",
    "                        'MUNICIPIO':'MUNICIPIOFINCA',\n",
    "                        'VEREDA':'VEREDAFINCA',\n",
    "                        'PLATASEVALUADAS':'PLANTASEVALUADAS',\n",
    "                        'ALTURA_MSNM':'ALTITUD',\n",
    "                        'FASEPRODUCTIVA':'FASEREPRODUCTIVA'\n",
    "                       })[columnas_definidas]\n",
    "df_2019 = df_2019.rename(columns={'ID':'IDFICHAASISTENCIA',\n",
    "                        'DEPARTAMENTO':'DEPARTAMENTOFINCA',\n",
    "                        'MUNICIPIO':'MUNICIPIOFINCA',\n",
    "                        'VEREDA':'VEREDAFINCA',\n",
    "                        'PLATASEVALUADAS':'PLANTASEVALUADAS',\n",
    "                        'ALTURA_MSNM':'ALTITUD',\n",
    "                        'FASEPRODUCTIVA':'FASEREPRODUCTIVA'\n",
    "                       })[columnas_definidas]\n",
    "\n",
    "df_2020 = df_2020.rename(columns={'ID':'IDFICHAASISTENCIA',\n",
    "                        'DEPARTAMENTO':'DEPARTAMENTOFINCA',\n",
    "                        'MUNICIPIO':'MUNICIPIOFINCA',\n",
    "                        'VEREDA':'VEREDAFINCA',\n",
    "                        'PLATASEVALUADAS':'PLANTASEVALUADAS',\n",
    "                        'ALTURAMSNM':'ALTITUD',\n",
    "                        'FASEPRODUCTIVA':'FASEREPRODUCTIVA'\n",
    "                       })[columnas_definidas]\n",
    "\n",
    "df_2021 = df_2021.rename(columns={'ID':'IDFICHAASISTENCIA',\n",
    "                        'DEPARTAMENTO':'DEPARTAMENTOFINCA',\n",
    "                        'MUNICIPIO':'MUNICIPIOFINCA',\n",
    "                        'VEREDA':'VEREDAFINCA',\n",
    "                        'PLATASEVALUADAS':'PLANTASEVALUADAS',\n",
    "                        'ALTURAMSNM':'ALTITUD',\n",
    "                        'FASEPRODUCTIVA':'FASEREPRODUCTIVA'\n",
    "                       })[columnas_definidas]\n",
    "\n",
    "df_2022 = df_2022.rename(columns={'ID':'IDFICHAASISTENCIA',\n",
    "                        'DEPARTAMENTO':'DEPARTAMENTOFINCA',\n",
    "                        'MUNICIPIO':'MUNICIPIOFINCA',\n",
    "                        'VEREDA':'VEREDAFINCA',\n",
    "                        'PLATASEVALUADAS':'PLANTASEVALUADAS',\n",
    "                        'ALTURAMSNM':'ALTITUD',\n",
    "                        'FASEPRODUCTIVA':'FASEREPRODUCTIVA'\n",
    "                       })[columnas_definidas]\n",
    "\n",
    "\n",
    "df_2023 = df_2023.rename(columns={'ID':'IDFICHAASISTENCIA',\n",
    "                        'DEPARTAMENTO':'DEPARTAMENTOFINCA',\n",
    "                        'MUNICIPIO':'MUNICIPIOFINCA',\n",
    "                        'VEREDA':'VEREDAFINCA',\n",
    "                        'PLATASEVALUADAS':'PLANTASEVALUADAS',\n",
    "                        'MIT':'LINEAPRODUCTIVA',\n",
    "                        'ALTURAMSNM':'ALTITUD',\n",
    "                        'FASEPRODUCTIVA':'FASEREPRODUCTIVA'\n",
    "                       })[columnas_definidas]\n"
   ]
  },
  {
   "cell_type": "code",
   "execution_count": 6,
   "id": "426ec1f3-3fa7-4597-a5db-18bb189cf408",
   "metadata": {
    "tags": []
   },
   "outputs": [],
   "source": [
    "def getNumbers(x):\n",
    "    try:\n",
    "        x = str(x).replace(',','.')\n",
    "        return re.findall(r'\\d+\\.\\d+|\\d+',x)[0]\n",
    "    except:\n",
    "        return None\n",
    "    "
   ]
  },
  {
   "cell_type": "code",
   "execution_count": 7,
   "id": "92da1bee-a587-42a3-93ca-e2009eab4810",
   "metadata": {
    "tags": []
   },
   "outputs": [],
   "source": [
    "df_union = pd.concat([df_2016,\n",
    "                      df_2017,\n",
    "                      df_2018,\n",
    "                      df_2019,\n",
    "                      df_2020,\n",
    "                      df_2021,\n",
    "                      df_2022,\n",
    "                      df_2023,\n",
    "                     ])"
   ]
  },
  {
   "cell_type": "code",
   "execution_count": 14,
   "id": "62e99f49-07cb-46a2-962a-f7b8d0df31dd",
   "metadata": {
    "tags": []
   },
   "outputs": [],
   "source": [
    "df_union['PLANTASEVALUADAS']   = df_union['PLANTASEVALUADAS'].apply(lambda x: getNumbers(x))\n",
    "df_union['PLANTASINFECTADAS']   = df_union['PLANTASINFECTADAS'].apply(lambda x: getNumbers(x))\n",
    "df_union['PLANTASINCIDENIAS']   = df_union['PLANTASINCIDENIAS'].apply(lambda x: getNumbers(x))\n",
    "df_union['LATITUD']   = df_union['LATITUD'].apply(lambda x: getNumbers(x))\n",
    "df_union['LONGITUD']   = df_union['LONGITUD'].apply(lambda x: getNumbers(x))\n",
    "df_union['ALTITUD']   = df_union['ALTITUD'].apply(lambda x: getNumbers(x))"
   ]
  },
  {
   "cell_type": "code",
   "execution_count": 15,
   "id": "3f388930-d352-4eba-a834-47621fe9fbf2",
   "metadata": {
    "tags": []
   },
   "outputs": [],
   "source": [
    "df_union['PLANTASEVALUADAS']   = df_union['PLANTASEVALUADAS'].astype(float)\n",
    "df_union['PLANTASINFECTADAS']   = df_union['PLANTASINFECTADAS'].astype(float)\n",
    "df_union['PLANTASINCIDENIAS']   = df_union['PLANTASINCIDENIAS'].astype(float)\n",
    "df_union['LATITUD']   = df_union['LATITUD'].astype(float)\n",
    "df_union['LONGITUD']   = df_union['LONGITUD'].astype(float)\n",
    "df_union['ALTITUD']   = df_union['ALTITUD'].astype(float)\n"
   ]
  },
  {
   "cell_type": "code",
   "execution_count": 17,
   "id": "b3dbbdc4-6107-4baf-8257-5d666c62b013",
   "metadata": {
    "tags": []
   },
   "outputs": [],
   "source": [
    "df_union.to_parquet('gs://datalake-asohofrucol/zone=standardized/source=asistencia-tecnica/fichas_tecnicas.parquet')"
   ]
  }
 ],
 "metadata": {
  "environment": {
   "kernel": "conda-base-py",
   "name": "workbench-notebooks.m124",
   "type": "gcloud",
   "uri": "us-docker.pkg.dev/deeplearning-platform-release/gcr.io/workbench-notebooks:m124"
  },
  "kernelspec": {
   "display_name": "Python 3 (ipykernel) (Local)",
   "language": "python",
   "name": "conda-base-py"
  },
  "language_info": {
   "codemirror_mode": {
    "name": "ipython",
    "version": 3
   },
   "file_extension": ".py",
   "mimetype": "text/x-python",
   "name": "python",
   "nbconvert_exporter": "python",
   "pygments_lexer": "ipython3",
   "version": "3.10.14"
  }
 },
 "nbformat": 4,
 "nbformat_minor": 5
}
